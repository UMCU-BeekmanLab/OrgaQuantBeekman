{
 "cells": [
  {
   "cell_type": "markdown",
   "metadata": {
    "colab_type": "text",
    "hide_input": true,
    "id": "ViGZv9mIQulP"
   },
   "source": [
    "# Define organoid detection configuration\n",
    "\n",
    "This notebook allows  and quantifies organoid size. It uses the model trained for [OrgaQuant](https://github.com/TKassis/OrgaQuant). The notebook contains several steps, please start with step 1.\n",
    "\n",
    "\n",
    "## 1. Start  \n",
    "- Run the complete notebook (Cell -> Run All)\n",
    "- Continue with step 2"
   ]
  },
  {
   "cell_type": "code",
   "execution_count": 1,
   "metadata": {},
   "outputs": [
    {
     "name": "stdout",
     "output_type": "stream",
     "text": [
      "C:\\Users\\sbeuning\\OneDrive - UMC Utrecht\\02_projects\\OrgaQuantBeekman\\scripts\n",
      "C:\\Users\\sbeuning\\OneDrive - UMC Utrecht\\02_projects\\OrgaQuantBeekman\n"
     ]
    }
   ],
   "source": [
    "import os\n",
    "if os.getcwd().endswith('scripts'):\n",
    "    path_parent = os.path.dirname(os.getcwd())\n",
    "    os.chdir(path_parent)"
   ]
  },
  {
   "cell_type": "code",
   "execution_count": 2,
   "metadata": {
    "ExecuteTime": {
     "end_time": "2021-06-23T14:47:49.142821Z",
     "start_time": "2021-06-23T14:47:49.132634Z"
    },
    "colab": {
     "base_uri": "https://localhost:8080/",
     "height": 121
    },
    "colab_type": "code",
    "hide_input": true,
    "id": "9e4uZutmtiDW",
    "outputId": "ccb5fe7e-9f44-49de-ee46-709ea30aaed0"
   },
   "outputs": [],
   "source": [
    "with open('data/data.conf', 'r') as file:\n",
    "    image_dir = file.read().replace('\\n', '')\n",
    "with open('models/models.conf', 'r') as file:\n",
    "    model_dir = file.read().replace('\\n', '')"
   ]
  },
  {
   "cell_type": "code",
   "execution_count": 3,
   "metadata": {
    "ExecuteTime": {
     "end_time": "2021-06-23T14:47:52.134740Z",
     "start_time": "2021-06-23T14:47:49.146611Z"
    },
    "colab": {
     "base_uri": "https://localhost:8080/",
     "height": 222
    },
    "colab_type": "code",
    "hide_input": true,
    "id": "AOLQzM6etDGE",
    "outputId": "59ed2524-5871-4cc5-8534-62a685d4030c",
    "scrolled": true
   },
   "outputs": [
    {
     "name": "stderr",
     "output_type": "stream",
     "text": [
      "Using TensorFlow backend.\n"
     ]
    },
    {
     "name": "stdout",
     "output_type": "stream",
     "text": [
      "2.3.0\n",
      "Dependecies succesfull loaded!\n"
     ]
    }
   ],
   "source": [
    "# Supress General warnings\n",
    "import warnings\n",
    "warnings.filterwarnings('ignore')\n",
    "\n",
    "#Import libraries\n",
    "import os\n",
    "import re\n",
    "import json\n",
    "import ipywidgets as widgets\n",
    "from pathlib import Path\n",
    "import cv2\n",
    "import tensorflow as tf\n",
    "import keras\n",
    "from keras_retinanet import models\n",
    "from keras_retinanet.utils.image import read_image_bgr, preprocess_image, resize_image, adjust_contrast\n",
    "from keras_retinanet.utils.visualization import draw_box\n",
    "import numpy as np\n",
    "import matplotlib.pyplot as plt\n",
    "import pandas as pd\n",
    "import shutil\n",
    "\n",
    "# Set tensorflow logging\n",
    "import logging\n",
    "logger = tf.get_logger()\n",
    "logger.setLevel(logging.ERROR)\n",
    "\n",
    "print(tf.__version__)\n",
    "print('Dependecies succesfull loaded!')"
   ]
  },
  {
   "cell_type": "markdown",
   "metadata": {
    "colab_type": "text",
    "hide_input": true,
    "id": "6JTA9BbGRU-Q"
   },
   "source": [
    "## 2. Setting parameters for organoid detection\n",
    "\n",
    "Adjust the sliders and press process to assess image. If output is not as required, change settings and try again. Initial values are manually optimized to minimize false positives. Continue to step 3 if you are happy with the result.\n",
    "\n",
    "Tip: test the same settings with multiple images (controlled by the seed).\n",
    "\n"
   ]
  },
  {
   "cell_type": "code",
   "execution_count": 4,
   "metadata": {
    "ExecuteTime": {
     "end_time": "2021-06-23T14:47:52.234160Z",
     "start_time": "2021-06-23T14:47:52.138893Z"
    },
    "colab": {
     "base_uri": "https://localhost:8080/",
     "height": 169,
     "referenced_widgets": [
      "f235cbed205d4db1a69c582da2039ae1",
      "a87fcdb8139d4f5484e78647ae1a904d",
      "da6003430d6040fba29df958f557a414",
      "029e89ccf48a40cb894cb75daf5d9249",
      "fa48d5277d0d494fb7bac315aadf3d22",
      "7a35bb7fd9a54b1a8a77321f928c0159",
      "22ac21b556394cbaba7f26128d7d9fb9",
      "8ef9172faa8f464c9c180cba8d57b8d4",
      "b70a3c72aba24956aee0e01bd417dbfb",
      "b8e17bd8f7dd48bdaa257e77cb342f6e",
      "08ff4ed29f2d4c1ba4cab5a9b8b85b50",
      "35c6fa56e75149b88b7744d82504bbac",
      "3a60131bbce44d92b85ee5e6b33b5feb",
      "6e1578f82cd7413c98557864f9005f59",
      "7722449f11b049ffa299ff0b4e737c83"
     ]
    },
    "colab_type": "code",
    "hide_input": true,
    "id": "oo8M8iqnQsR_",
    "outputId": "93c83cdd-5047-4237-b3bf-d7ef2a5611ef"
   },
   "outputs": [
    {
     "ename": "FileNotFoundError",
     "evalue": "[WinError 3] Het systeem kan het opgegeven pad niet vinden: '..\\\\data'",
     "output_type": "error",
     "traceback": [
      "\u001b[1;31m---------------------------------------------------------------------------\u001b[0m",
      "\u001b[1;31mFileNotFoundError\u001b[0m                         Traceback (most recent call last)",
      "\u001b[1;32m~\\AppData\\Local\\Temp/ipykernel_4208/719814662.py\u001b[0m in \u001b[0;36m<module>\u001b[1;34m\u001b[0m\n\u001b[0;32m     27\u001b[0m                                 description_tooltip='Change value if parameter optimization should be performed on another image')\n\u001b[0;32m     28\u001b[0m \u001b[1;33m\u001b[0m\u001b[0m\n\u001b[1;32m---> 29\u001b[1;33m dropdown_images = widgets.Dropdown(options=[x.name for x in Path(image_dir).iterdir() if x.is_dir()],\n\u001b[0m\u001b[0;32m     30\u001b[0m                                  \u001b[0mdescription\u001b[0m\u001b[1;33m=\u001b[0m\u001b[1;34m'Image directory:'\u001b[0m\u001b[1;33m,\u001b[0m\u001b[1;33m\u001b[0m\u001b[1;33m\u001b[0m\u001b[0m\n\u001b[0;32m     31\u001b[0m                                  disabled=False)\n",
      "\u001b[1;32m~\\AppData\\Local\\Temp/ipykernel_4208/719814662.py\u001b[0m in \u001b[0;36m<listcomp>\u001b[1;34m(.0)\u001b[0m\n\u001b[0;32m     27\u001b[0m                                 description_tooltip='Change value if parameter optimization should be performed on another image')\n\u001b[0;32m     28\u001b[0m \u001b[1;33m\u001b[0m\u001b[0m\n\u001b[1;32m---> 29\u001b[1;33m dropdown_images = widgets.Dropdown(options=[x.name for x in Path(image_dir).iterdir() if x.is_dir()],\n\u001b[0m\u001b[0;32m     30\u001b[0m                                  \u001b[0mdescription\u001b[0m\u001b[1;33m=\u001b[0m\u001b[1;34m'Image directory:'\u001b[0m\u001b[1;33m,\u001b[0m\u001b[1;33m\u001b[0m\u001b[1;33m\u001b[0m\u001b[0m\n\u001b[0;32m     31\u001b[0m                                  disabled=False)\n",
      "\u001b[1;32m~\\OneDrive - UMC Utrecht\\02_projects\\OrgaQuantBeekman\\env\\lib\\pathlib.py\u001b[0m in \u001b[0;36miterdir\u001b[1;34m(self)\u001b[0m\n\u001b[0;32m   1105\u001b[0m         \u001b[1;32mif\u001b[0m \u001b[0mself\u001b[0m\u001b[1;33m.\u001b[0m\u001b[0m_closed\u001b[0m\u001b[1;33m:\u001b[0m\u001b[1;33m\u001b[0m\u001b[1;33m\u001b[0m\u001b[0m\n\u001b[0;32m   1106\u001b[0m             \u001b[0mself\u001b[0m\u001b[1;33m.\u001b[0m\u001b[0m_raise_closed\u001b[0m\u001b[1;33m(\u001b[0m\u001b[1;33m)\u001b[0m\u001b[1;33m\u001b[0m\u001b[1;33m\u001b[0m\u001b[0m\n\u001b[1;32m-> 1107\u001b[1;33m         \u001b[1;32mfor\u001b[0m \u001b[0mname\u001b[0m \u001b[1;32min\u001b[0m \u001b[0mself\u001b[0m\u001b[1;33m.\u001b[0m\u001b[0m_accessor\u001b[0m\u001b[1;33m.\u001b[0m\u001b[0mlistdir\u001b[0m\u001b[1;33m(\u001b[0m\u001b[0mself\u001b[0m\u001b[1;33m)\u001b[0m\u001b[1;33m:\u001b[0m\u001b[1;33m\u001b[0m\u001b[1;33m\u001b[0m\u001b[0m\n\u001b[0m\u001b[0;32m   1108\u001b[0m             \u001b[1;32mif\u001b[0m \u001b[0mname\u001b[0m \u001b[1;32min\u001b[0m \u001b[1;33m{\u001b[0m\u001b[1;34m'.'\u001b[0m\u001b[1;33m,\u001b[0m \u001b[1;34m'..'\u001b[0m\u001b[1;33m}\u001b[0m\u001b[1;33m:\u001b[0m\u001b[1;33m\u001b[0m\u001b[1;33m\u001b[0m\u001b[0m\n\u001b[0;32m   1109\u001b[0m                 \u001b[1;31m# Yielding a path object for these makes little sense\u001b[0m\u001b[1;33m\u001b[0m\u001b[1;33m\u001b[0m\u001b[1;33m\u001b[0m\u001b[0m\n",
      "\u001b[1;31mFileNotFoundError\u001b[0m: [WinError 3] Het systeem kan het opgegeven pad niet vinden: '..\\\\data'"
     ]
    }
   ],
   "source": [
    "slider_image_size = widgets.IntSlider(value=1024, \n",
    "                                    min=512,\n",
    "                                    max=2048,\n",
    "                                    step=128,\n",
    "                                    description='Image Size:',\n",
    "                                    description_tooltip='Larger \"Image Size\" allows you to detect smaller orgaoids at the cost of computational demand.')\n",
    "\n",
    "slider_contrast = widgets.FloatSlider(value=2,\n",
    "                                      min=1,\n",
    "                                      max=3,\n",
    "                                      step=0.25,\n",
    "                                      description='Contrast', \n",
    "                                      description_tooltip='Larger \"Contrast\" can improve detection sometimes.')\n",
    "\n",
    "slider_threshold  = widgets.FloatSlider(value=0.9,\n",
    "                                        min=0,\n",
    "                                        max=1,\n",
    "                                        step=0.05,\n",
    "                                        description='Threshold', \n",
    "                                        description_tooltip='Use larger \"Threshold\" to eliminate false positives.')\n",
    "\n",
    "slider_seed = widgets.IntSlider(value=1,\n",
    "                                min=1,\n",
    "                                max=40,\n",
    "                                step=1,\n",
    "                                description='Seed',\n",
    "                                description_tooltip='Change value if parameter optimization should be performed on another image')\n",
    "\n",
    "dropdown_images = widgets.Dropdown(options=[x.name for x in Path(image_dir).iterdir() if x.is_dir()],\n",
    "                                 description='Image directory:',\n",
    "                                 disabled=False)\n",
    "\n",
    "dropdown_model = widgets.Dropdown(options=[x.name for x in Path(model_dir).glob('**/*.h5')],\n",
    "                                  description='Model:',\n",
    "                                  disabled=False)\n",
    "\n",
    "display(dropdown_images, dropdown_model, slider_image_size, slider_contrast, slider_threshold, slider_seed)"
   ]
  },
  {
   "cell_type": "code",
   "execution_count": null,
   "metadata": {
    "ExecuteTime": {
     "end_time": "2021-06-23T14:47:52.273144Z",
     "start_time": "2021-06-23T14:47:52.237621Z"
    },
    "colab": {
     "base_uri": "https://localhost:8080/",
     "height": 279
    },
    "colab_type": "code",
    "hide_input": true,
    "id": "VGGSjikIzlxj",
    "outputId": "d2ec939e-07d3-4d92-d3fd-85af28b51281"
   },
   "outputs": [],
   "source": [
    "process_button = widgets.Button(\n",
    "    description='Process ',\n",
    "    disabled=False,\n",
    "    button_style='primary',\n",
    "    tooltip='Click to test configuration',\n",
    "    icon='cogs' # (FontAwesome names without the `fa-` prefix)\n",
    ")\n",
    "\n",
    "outA = widgets.Output()\n",
    "\n",
    "def detect_organoids():\n",
    "    print('Starting process, please wait...')\n",
    "    image_size = slider_image_size.value\n",
    "    contrast = slider_contrast.value\n",
    "    threshold = slider_threshold.value\n",
    "    seed = slider_seed.value\n",
    "    image_path = Path(image_dir) / dropdown_images.value\n",
    "    model_path = Path(model_dir) / dropdown_model.value\n",
    "    model = models.load_model(model_path, backbone_name='resnet50') \n",
    "\n",
    "    # Recreate imagelist in case cells are run interactive\n",
    "    exclude_strings = ['_detected', '_processed']\n",
    "    imagelist = [i for i in Path(image_path).glob('**/*.jpg') if not any(x in str(i) for x in exclude_strings)]\n",
    "\n",
    "    np.random.seed(seed)\n",
    "    image_path = np.random.choice(imagelist, size=1)[0]\n",
    "    #\n",
    "    print(f'Selected image: {image_path}')\n",
    "    # load image\n",
    "    image = read_image_bgr(image_path)\n",
    "\n",
    "    # copy to draw on\n",
    "    draw = image.copy()\n",
    "    draw = cv2.cvtColor(draw, cv2.COLOR_BGR2RGB)\n",
    "\n",
    "    # preprocess image for network\n",
    "    image = adjust_contrast(image,contrast)\n",
    "    image = preprocess_image(image)\n",
    "    image, scale = resize_image(image, min_side=image_size, max_side=2048)\n",
    "\n",
    "    print('Predicting organoids, please wait...')\n",
    "    # process image\n",
    "    boxes, scores, labels = model.predict_on_batch(np.expand_dims(image, axis=0))\n",
    "\n",
    "    # correct for image scale\n",
    "    boxes /= scale\n",
    "\n",
    "    num_org = 0\n",
    "    # visualize detections\n",
    "    for box, score, label in zip(boxes[0], scores[0], labels[0]):\n",
    "        # scores are sorted so we can break\n",
    "        if score < threshold:\n",
    "            break\n",
    "        num_org= num_org + 1\n",
    "        b = box.astype(int)\n",
    "        draw_box(draw, b, color=(255, 0, 255))\n",
    "\n",
    "    print(f'{num_org} particles were detected in {image_path}')\n",
    "\n",
    "    # num_org, cv2.imshow.('test', draw)\n",
    "    plt.figure(figsize=(25,20))\n",
    "    plt.imshow(draw)\n",
    "    plt.title(image_path)\n",
    "    plt.show()\n",
    "    \n",
    "def process_organoids(A):\n",
    "    outA.clear_output()\n",
    "    with outA:\n",
    "        detect_organoids()\n",
    " \n",
    "display(process_button, outA)\n",
    "process_button.on_click(process_organoids)"
   ]
  },
  {
   "cell_type": "markdown",
   "metadata": {},
   "source": [
    "## 3. Define string regex\n",
    "Guide: [Python Regex](https://pythex.org/)\n",
    "\n",
    "Example: '^(?P<WELL>[A-Z]{1}_[0-9]{1,2})_.*_t(?P<T>[0-9]{1,2})_.*\\\\.jpg$'\n",
    "\n",
    "Please specify both WELL and T as capture groups"
   ]
  },
  {
   "cell_type": "code",
   "execution_count": null,
   "metadata": {
    "ExecuteTime": {
     "end_time": "2021-06-23T14:47:52.299152Z",
     "start_time": "2021-06-23T14:47:52.276675Z"
    },
    "hide_input": true
   },
   "outputs": [],
   "source": [
    "regex_string = widgets.Text(value='^(?P<WELL>[A-Z]{1}_[0-9]{1,2})_.*_t(?P<T>[0-9]{1,2})_.*\\.jpg$',\n",
    "                            placeholder='Type name regex',\n",
    "                            description='Name regex:',\n",
    "                            disabled=False\n",
    ")\n",
    "\n",
    "display(regex_string)"
   ]
  },
  {
   "cell_type": "code",
   "execution_count": null,
   "metadata": {
    "ExecuteTime": {
     "end_time": "2021-06-23T14:47:52.334030Z",
     "start_time": "2021-06-23T14:47:52.302320Z"
    },
    "hide_input": true,
    "tags": []
   },
   "outputs": [],
   "source": [
    "outB = widgets.Output()\n",
    "\n",
    "test_button = widgets.Button(description='Test regex',\n",
    "                             disabled=False,\n",
    "                             button_style='primary',\n",
    "                             tooltip='Click to test regex',\n",
    "                             icon='cogs' # (FontAwesome names without the `fa-` prefix)\n",
    ")\n",
    "\n",
    "def test_regex(B):\n",
    "    outB.clear_output()\n",
    "    with outB:\n",
    "        example = next(Path(Path(image_dir) / dropdown_images.value).glob('**/*.jpg')).name\n",
    "        print(f'Example file name: {example}')\n",
    "        try:\n",
    "            match = re.search(regex_string.value, example)\n",
    "            WELL = match.group('WELL')\n",
    "            T = match.group('T')\n",
    "            print(f'WELL: {WELL}')\n",
    "            print(f'T: {T}')\n",
    "            print('Regex succesfull specified!')\n",
    "            print('Not happy? Change regex and try again...')\n",
    "            print('Happy? Continue to step 4')\n",
    "        except:\n",
    "            print('Incorrect regex specified, please make sure the capture groups WELL and T are present.')\n",
    "\n",
    "display(test_button, outB)\n",
    "test_button.on_click(test_regex)"
   ]
  },
  {
   "cell_type": "markdown",
   "metadata": {
    "colab_type": "text",
    "hide_input": true,
    "id": "EeUMv40TSEeE"
   },
   "source": [
    "## 4. Save config\n",
    "Happy with the result? Save config and you are done!"
   ]
  },
  {
   "cell_type": "code",
   "execution_count": null,
   "metadata": {
    "ExecuteTime": {
     "end_time": "2021-06-23T14:47:52.366358Z",
     "start_time": "2021-06-23T14:47:52.336967Z"
    },
    "colab": {
     "base_uri": "https://localhost:8080/",
     "height": 132
    },
    "colab_type": "code",
    "hide_input": true,
    "id": "PcPDIgjH0AJM",
    "outputId": "fbbecf3d-3df7-4a41-b6e8-d5dc6734f159"
   },
   "outputs": [],
   "source": [
    "save_button = widgets.Button(\n",
    "    description='Save config',\n",
    "    disabled=False,\n",
    "    button_style='success',\n",
    "    tooltip='Click to save config',\n",
    "    icon='save' # (FontAwesome names without the `fa-` prefix)\n",
    ")\n",
    "\n",
    "outC = widgets.Output()\n",
    "\n",
    "def save_config(C):\n",
    "    outC.clear_output()\n",
    "    with outC:\n",
    "        config = {'model': str(Path(model_dir) / dropdown_model.value),\n",
    "                  'image_size': slider_image_size.value,\n",
    "                  'contrast': slider_contrast.value,\n",
    "                  'threshold': slider_threshold.value,\n",
    "                  'regex': regex_string.value}\n",
    "  \n",
    "        with open(f'{Path(image_dir) / dropdown_images.value}/config.json', 'w') as fp:\n",
    "            json.dump(config, fp)\n",
    "\n",
    "        print('Save Succesfull!')\n",
    "        print('Saved json:')\n",
    "        print(config)\n",
    "\n",
    "display(save_button, outC)\n",
    "save_button.on_click(save_config)"
   ]
  },
  {
   "cell_type": "markdown",
   "metadata": {
    "ExecuteTime": {
     "end_time": "2021-03-11T14:58:36.162095Z",
     "start_time": "2021-03-11T14:58:36.156450Z"
    },
    "hide_input": true
   },
   "source": [
    "## 5. Close notebook\n",
    "Please close the notebook"
   ]
  }
 ],
 "metadata": {
  "celltoolbar": "Tags",
  "colab": {
   "collapsed_sections": [],
   "name": "organoid_recognition.ipynb",
   "provenance": [],
   "toc_visible": true
  },
  "hide_input": false,
  "kernelspec": {
   "display_name": "Python 3 (ipykernel)",
   "language": "python",
   "name": "python3"
  },
  "language_info": {
   "codemirror_mode": {
    "name": "ipython",
    "version": 3
   },
   "file_extension": ".py",
   "mimetype": "text/x-python",
   "name": "python",
   "nbconvert_exporter": "python",
   "pygments_lexer": "ipython3",
   "version": "3.7.10"
  },
  "widgets": {
   "application/vnd.jupyter.widget-state+json": {
    "029e89ccf48a40cb894cb75daf5d9249": {
     "model_module": "@jupyter-widgets/controls",
     "model_name": "IntSliderModel",
     "state": {
      "_dom_classes": [],
      "_model_module": "@jupyter-widgets/controls",
      "_model_module_version": "1.5.0",
      "_model_name": "IntSliderModel",
      "_view_count": null,
      "_view_module": "@jupyter-widgets/controls",
      "_view_module_version": "1.5.0",
      "_view_name": "IntSliderView",
      "continuous_update": true,
      "description": "Min Side:",
      "description_tooltip": "Larger \"Image Size\" allows you to detect smaller orgaoids at the cost of computational demand.",
      "disabled": false,
      "layout": "IPY_MODEL_7a35bb7fd9a54b1a8a77321f928c0159",
      "max": 2000,
      "min": 800,
      "orientation": "horizontal",
      "readout": true,
      "readout_format": "d",
      "step": 100,
      "style": "IPY_MODEL_fa48d5277d0d494fb7bac315aadf3d22",
      "value": 1800
     }
    },
    "08ff4ed29f2d4c1ba4cab5a9b8b85b50": {
     "model_module": "@jupyter-widgets/controls",
     "model_name": "SliderStyleModel",
     "state": {
      "_model_module": "@jupyter-widgets/controls",
      "_model_module_version": "1.5.0",
      "_model_name": "SliderStyleModel",
      "_view_count": null,
      "_view_module": "@jupyter-widgets/base",
      "_view_module_version": "1.2.0",
      "_view_name": "StyleView",
      "description_width": "",
      "handle_color": null
     }
    },
    "22ac21b556394cbaba7f26128d7d9fb9": {
     "model_module": "@jupyter-widgets/controls",
     "model_name": "FloatSliderModel",
     "state": {
      "_dom_classes": [],
      "_model_module": "@jupyter-widgets/controls",
      "_model_module_version": "1.5.0",
      "_model_name": "FloatSliderModel",
      "_view_count": null,
      "_view_module": "@jupyter-widgets/controls",
      "_view_module_version": "1.5.0",
      "_view_name": "FloatSliderView",
      "continuous_update": true,
      "description": "Contrast",
      "description_tooltip": "Larger \"Contrast\" can improve detection sometimes.",
      "disabled": false,
      "layout": "IPY_MODEL_b70a3c72aba24956aee0e01bd417dbfb",
      "max": 3,
      "min": 1,
      "orientation": "horizontal",
      "readout": true,
      "readout_format": ".2f",
      "step": 0.25,
      "style": "IPY_MODEL_8ef9172faa8f464c9c180cba8d57b8d4",
      "value": 2
     }
    },
    "35c6fa56e75149b88b7744d82504bbac": {
     "model_module": "@jupyter-widgets/base",
     "model_name": "LayoutModel",
     "state": {
      "_model_module": "@jupyter-widgets/base",
      "_model_module_version": "1.2.0",
      "_model_name": "LayoutModel",
      "_view_count": null,
      "_view_module": "@jupyter-widgets/base",
      "_view_module_version": "1.2.0",
      "_view_name": "LayoutView",
      "align_content": null,
      "align_items": null,
      "align_self": null,
      "border": null,
      "bottom": null,
      "display": null,
      "flex": null,
      "flex_flow": null,
      "grid_area": null,
      "grid_auto_columns": null,
      "grid_auto_flow": null,
      "grid_auto_rows": null,
      "grid_column": null,
      "grid_gap": null,
      "grid_row": null,
      "grid_template_areas": null,
      "grid_template_columns": null,
      "grid_template_rows": null,
      "height": null,
      "justify_content": null,
      "justify_items": null,
      "left": null,
      "margin": null,
      "max_height": null,
      "max_width": null,
      "min_height": null,
      "min_width": null,
      "object_fit": null,
      "object_position": null,
      "order": null,
      "overflow": null,
      "overflow_x": null,
      "overflow_y": null,
      "padding": null,
      "right": null,
      "top": null,
      "visibility": null,
      "width": null
     }
    },
    "3a60131bbce44d92b85ee5e6b33b5feb": {
     "model_module": "@jupyter-widgets/controls",
     "model_name": "IntSliderModel",
     "state": {
      "_dom_classes": [],
      "_model_module": "@jupyter-widgets/controls",
      "_model_module_version": "1.5.0",
      "_model_name": "IntSliderModel",
      "_view_count": null,
      "_view_module": "@jupyter-widgets/controls",
      "_view_module_version": "1.5.0",
      "_view_name": "IntSliderView",
      "continuous_update": true,
      "description": "Seed",
      "description_tooltip": "Change value if parameter optimization should be performed on another image",
      "disabled": false,
      "layout": "IPY_MODEL_7722449f11b049ffa299ff0b4e737c83",
      "max": 40,
      "min": 1,
      "orientation": "horizontal",
      "readout": true,
      "readout_format": "d",
      "step": 1,
      "style": "IPY_MODEL_6e1578f82cd7413c98557864f9005f59",
      "value": 1
     }
    },
    "6e1578f82cd7413c98557864f9005f59": {
     "model_module": "@jupyter-widgets/controls",
     "model_name": "SliderStyleModel",
     "state": {
      "_model_module": "@jupyter-widgets/controls",
      "_model_module_version": "1.5.0",
      "_model_name": "SliderStyleModel",
      "_view_count": null,
      "_view_module": "@jupyter-widgets/base",
      "_view_module_version": "1.2.0",
      "_view_name": "StyleView",
      "description_width": "",
      "handle_color": null
     }
    },
    "7722449f11b049ffa299ff0b4e737c83": {
     "model_module": "@jupyter-widgets/base",
     "model_name": "LayoutModel",
     "state": {
      "_model_module": "@jupyter-widgets/base",
      "_model_module_version": "1.2.0",
      "_model_name": "LayoutModel",
      "_view_count": null,
      "_view_module": "@jupyter-widgets/base",
      "_view_module_version": "1.2.0",
      "_view_name": "LayoutView",
      "align_content": null,
      "align_items": null,
      "align_self": null,
      "border": null,
      "bottom": null,
      "display": null,
      "flex": null,
      "flex_flow": null,
      "grid_area": null,
      "grid_auto_columns": null,
      "grid_auto_flow": null,
      "grid_auto_rows": null,
      "grid_column": null,
      "grid_gap": null,
      "grid_row": null,
      "grid_template_areas": null,
      "grid_template_columns": null,
      "grid_template_rows": null,
      "height": null,
      "justify_content": null,
      "justify_items": null,
      "left": null,
      "margin": null,
      "max_height": null,
      "max_width": null,
      "min_height": null,
      "min_width": null,
      "object_fit": null,
      "object_position": null,
      "order": null,
      "overflow": null,
      "overflow_x": null,
      "overflow_y": null,
      "padding": null,
      "right": null,
      "top": null,
      "visibility": null,
      "width": null
     }
    },
    "7a35bb7fd9a54b1a8a77321f928c0159": {
     "model_module": "@jupyter-widgets/base",
     "model_name": "LayoutModel",
     "state": {
      "_model_module": "@jupyter-widgets/base",
      "_model_module_version": "1.2.0",
      "_model_name": "LayoutModel",
      "_view_count": null,
      "_view_module": "@jupyter-widgets/base",
      "_view_module_version": "1.2.0",
      "_view_name": "LayoutView",
      "align_content": null,
      "align_items": null,
      "align_self": null,
      "border": null,
      "bottom": null,
      "display": null,
      "flex": null,
      "flex_flow": null,
      "grid_area": null,
      "grid_auto_columns": null,
      "grid_auto_flow": null,
      "grid_auto_rows": null,
      "grid_column": null,
      "grid_gap": null,
      "grid_row": null,
      "grid_template_areas": null,
      "grid_template_columns": null,
      "grid_template_rows": null,
      "height": null,
      "justify_content": null,
      "justify_items": null,
      "left": null,
      "margin": null,
      "max_height": null,
      "max_width": null,
      "min_height": null,
      "min_width": null,
      "object_fit": null,
      "object_position": null,
      "order": null,
      "overflow": null,
      "overflow_x": null,
      "overflow_y": null,
      "padding": null,
      "right": null,
      "top": null,
      "visibility": null,
      "width": null
     }
    },
    "8ef9172faa8f464c9c180cba8d57b8d4": {
     "model_module": "@jupyter-widgets/controls",
     "model_name": "SliderStyleModel",
     "state": {
      "_model_module": "@jupyter-widgets/controls",
      "_model_module_version": "1.5.0",
      "_model_name": "SliderStyleModel",
      "_view_count": null,
      "_view_module": "@jupyter-widgets/base",
      "_view_module_version": "1.2.0",
      "_view_name": "StyleView",
      "description_width": "",
      "handle_color": null
     }
    },
    "a87fcdb8139d4f5484e78647ae1a904d": {
     "model_module": "@jupyter-widgets/controls",
     "model_name": "DescriptionStyleModel",
     "state": {
      "_model_module": "@jupyter-widgets/controls",
      "_model_module_version": "1.5.0",
      "_model_name": "DescriptionStyleModel",
      "_view_count": null,
      "_view_module": "@jupyter-widgets/base",
      "_view_module_version": "1.2.0",
      "_view_name": "StyleView",
      "description_width": ""
     }
    },
    "b70a3c72aba24956aee0e01bd417dbfb": {
     "model_module": "@jupyter-widgets/base",
     "model_name": "LayoutModel",
     "state": {
      "_model_module": "@jupyter-widgets/base",
      "_model_module_version": "1.2.0",
      "_model_name": "LayoutModel",
      "_view_count": null,
      "_view_module": "@jupyter-widgets/base",
      "_view_module_version": "1.2.0",
      "_view_name": "LayoutView",
      "align_content": null,
      "align_items": null,
      "align_self": null,
      "border": null,
      "bottom": null,
      "display": null,
      "flex": null,
      "flex_flow": null,
      "grid_area": null,
      "grid_auto_columns": null,
      "grid_auto_flow": null,
      "grid_auto_rows": null,
      "grid_column": null,
      "grid_gap": null,
      "grid_row": null,
      "grid_template_areas": null,
      "grid_template_columns": null,
      "grid_template_rows": null,
      "height": null,
      "justify_content": null,
      "justify_items": null,
      "left": null,
      "margin": null,
      "max_height": null,
      "max_width": null,
      "min_height": null,
      "min_width": null,
      "object_fit": null,
      "object_position": null,
      "order": null,
      "overflow": null,
      "overflow_x": null,
      "overflow_y": null,
      "padding": null,
      "right": null,
      "top": null,
      "visibility": null,
      "width": null
     }
    },
    "b8e17bd8f7dd48bdaa257e77cb342f6e": {
     "model_module": "@jupyter-widgets/controls",
     "model_name": "FloatSliderModel",
     "state": {
      "_dom_classes": [],
      "_model_module": "@jupyter-widgets/controls",
      "_model_module_version": "1.5.0",
      "_model_name": "FloatSliderModel",
      "_view_count": null,
      "_view_module": "@jupyter-widgets/controls",
      "_view_module_version": "1.5.0",
      "_view_name": "FloatSliderView",
      "continuous_update": true,
      "description": "Threshold",
      "description_tooltip": "Use larger \"Threshold\" to eliminate false positives.",
      "disabled": false,
      "layout": "IPY_MODEL_35c6fa56e75149b88b7744d82504bbac",
      "max": 1,
      "min": 0,
      "orientation": "horizontal",
      "readout": true,
      "readout_format": ".2f",
      "step": 0.05,
      "style": "IPY_MODEL_08ff4ed29f2d4c1ba4cab5a9b8b85b50",
      "value": 0.9
     }
    },
    "da6003430d6040fba29df958f557a414": {
     "model_module": "@jupyter-widgets/base",
     "model_name": "LayoutModel",
     "state": {
      "_model_module": "@jupyter-widgets/base",
      "_model_module_version": "1.2.0",
      "_model_name": "LayoutModel",
      "_view_count": null,
      "_view_module": "@jupyter-widgets/base",
      "_view_module_version": "1.2.0",
      "_view_name": "LayoutView",
      "align_content": null,
      "align_items": null,
      "align_self": null,
      "border": null,
      "bottom": null,
      "display": null,
      "flex": null,
      "flex_flow": null,
      "grid_area": null,
      "grid_auto_columns": null,
      "grid_auto_flow": null,
      "grid_auto_rows": null,
      "grid_column": null,
      "grid_gap": null,
      "grid_row": null,
      "grid_template_areas": null,
      "grid_template_columns": null,
      "grid_template_rows": null,
      "height": null,
      "justify_content": null,
      "justify_items": null,
      "left": null,
      "margin": null,
      "max_height": null,
      "max_width": null,
      "min_height": null,
      "min_width": null,
      "object_fit": null,
      "object_position": null,
      "order": null,
      "overflow": null,
      "overflow_x": null,
      "overflow_y": null,
      "padding": null,
      "right": null,
      "top": null,
      "visibility": null,
      "width": null
     }
    },
    "f235cbed205d4db1a69c582da2039ae1": {
     "model_module": "@jupyter-widgets/controls",
     "model_name": "DropdownModel",
     "state": {
      "_dom_classes": [],
      "_model_module": "@jupyter-widgets/controls",
      "_model_module_version": "1.5.0",
      "_model_name": "DropdownModel",
      "_options_labels": [
       "Matrigel coated plate 2",
       "FDA screen 113 FDA1 n1 test",
       "Test quality pictures",
       "95 plate1 FDA1 n1",
       "95 plate2 FDA2 n1",
       "95 plate4 FDA2 n2",
       "79 plate1 FDA1 n1",
       "79-plate2-FDA2-n1",
       "113-plate2-FDA1-n2",
       "188-plate2-FDA1-n2",
       "188-plate4-FDA2-n2",
       "95 plate3 FDA1 n2",
       "188-plate5-FDA2-n3 ",
       "188-plate1-FDA1-n1 all",
       "113-plate1-FDA1-n1",
       "113-plate5-FDA2-n3",
       "113-plate6-FDA1-n3",
       "188-plate3-FDA2-n1",
       "113-plate3-FDA2-n1",
       "188-plate6-FDA1-n3",
       "188-plate1-FDA1-n1",
       "113-plate4-FDA2-n2",
       "20200108 LR011C Charac TMEM16A KO",
       "20200109 LR-005E inside out 2x CF",
       "Livia-96W-79-plate1",
       "Livia-96W-79-plate2",
       "Livia-96W-79-plate3",
       "Livia-96W-188-plate2",
       "Livia-96W-95-plate1",
       "Livia-96W-95-plate2",
       "Livia-96W-95-plate3",
       "Livia-96W-113-plate1",
       "Livia-96W-113-plate2",
       "Livia96W-113-plate3",
       "Livia-96W-188-plate1",
       "Livia-96W-188-plate3",
       "Livia-graphs",
       "LR-009F inside out plate 1",
       "LR-009F inside out plate 2",
       "standardization_test"
      ],
      "_view_count": null,
      "_view_module": "@jupyter-widgets/controls",
      "_view_module_version": "1.5.0",
      "_view_name": "DropdownView",
      "description": "Directory:",
      "description_tooltip": null,
      "disabled": false,
      "index": 0,
      "layout": "IPY_MODEL_da6003430d6040fba29df958f557a414",
      "style": "IPY_MODEL_a87fcdb8139d4f5484e78647ae1a904d"
     }
    },
    "fa48d5277d0d494fb7bac315aadf3d22": {
     "model_module": "@jupyter-widgets/controls",
     "model_name": "SliderStyleModel",
     "state": {
      "_model_module": "@jupyter-widgets/controls",
      "_model_module_version": "1.5.0",
      "_model_name": "SliderStyleModel",
      "_view_count": null,
      "_view_module": "@jupyter-widgets/base",
      "_view_module_version": "1.2.0",
      "_view_name": "StyleView",
      "description_width": "",
      "handle_color": null
     }
    }
   }
  }
 },
 "nbformat": 4,
 "nbformat_minor": 1
}
